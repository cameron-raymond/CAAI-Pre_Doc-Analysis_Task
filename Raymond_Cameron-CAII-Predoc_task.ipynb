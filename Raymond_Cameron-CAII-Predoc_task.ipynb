{
 "cells": [
  {
   "cell_type": "markdown",
   "metadata": {},
   "source": [
    "# CAAI Applied Machine Learning Pre-Doc - Analysis Task\n",
    "---\n",
    "\n",
    "- **Name:** Cameron Raymond\n",
    "- **Current Date:** \n",
    "- **Due Date:** November 20, 2020\n",
    "<!-- - **Submission link:** https://forms.gle/tagRjeGCQBHVZNiR9 -->"
   ]
  },
  {
   "cell_type": "code",
   "execution_count": 1,
   "metadata": {},
   "outputs": [],
   "source": [
    "import pandas as pd\n",
    "import numpy as np\n",
    "import seaborn as sns\n",
    "sns.set_theme()"
   ]
  },
  {
   "cell_type": "markdown",
   "metadata": {},
   "source": [
    "**1. Find the The IMDB-WIKI dataset**\n",
    "\n",
    "IMDB-Wiki dataset can be found [here](https://data.vision.ee.ethz.ch/cvl/rrothe/imdb-wiki/) and was created by Rothe, Timofte & Van Gool in 2015. It's the largest publically available dataset of human faces with gender, age, and name. It contains more than 500 thousand+ images with the associated meta information (Rothe, Timofte & Van Gool, 2015):\n",
    "* `dob`: date of birth (Matlab serial date number)\n",
    "* `photo_taken`: year when the photo was taken\n",
    "* `full_path`: path to file\n",
    "* `gender`: 0 for female and 1 for male, NaN if unknown\n",
    "* `name`: name of the celebrity\n",
    "* `face_location`: location of the face. \n",
    "* `face_score`: detector score (the higher the better). Inf implies that no face was found in the image and the face_location then just returns the entire image\n",
    "* `second_face_score`: detector score of the face with the second highest score. This is useful to ignore images with more than one face. second_face_score is NaN if no second face was detected.\n",
    "* `celeb_names` (IMDB only): list of all celebrity names\n",
    "* `celeb_id` (IMDB only): index of celebrity name\n",
    "\n",
    "The original data set is quite unwieldy, but open-sourced code from [`imdeepmind`](https://github.com/imdeepmind/processed-imdb-wiki-dataset) provides a set of python scripts for processing the data. The processed metadata is stored in this project's root directory in the file `FILE.csv`. Since"
   ]
  },
  {
   "cell_type": "code",
   "execution_count": 2,
   "metadata": {},
   "outputs": [
    {
     "data": {
      "text/html": [
       "<div>\n",
       "<style scoped>\n",
       "    .dataframe tbody tr th:only-of-type {\n",
       "        vertical-align: middle;\n",
       "    }\n",
       "\n",
       "    .dataframe tbody tr th {\n",
       "        vertical-align: top;\n",
       "    }\n",
       "\n",
       "    .dataframe thead th {\n",
       "        text-align: right;\n",
       "    }\n",
       "</style>\n",
       "<table border=\"1\" class=\"dataframe\">\n",
       "  <thead>\n",
       "    <tr style=\"text-align: right;\">\n",
       "      <th></th>\n",
       "      <th>age</th>\n",
       "      <th>gender</th>\n",
       "      <th>path</th>\n",
       "    </tr>\n",
       "  </thead>\n",
       "  <tbody>\n",
       "    <tr>\n",
       "      <th>0</th>\n",
       "      <td>30</td>\n",
       "      <td>female</td>\n",
       "      <td>imdb_crop/29/nm0005429_rm1549638400_1974-9-19_...</td>\n",
       "    </tr>\n",
       "    <tr>\n",
       "      <th>1</th>\n",
       "      <td>25</td>\n",
       "      <td>male</td>\n",
       "      <td>imdb_crop/94/nm1475594_rm3318716416_1980-4-26_...</td>\n",
       "    </tr>\n",
       "    <tr>\n",
       "      <th>2</th>\n",
       "      <td>32</td>\n",
       "      <td>male</td>\n",
       "      <td>imdb_crop/74/nm0004874_rm3353647104_1967-7-18_...</td>\n",
       "    </tr>\n",
       "    <tr>\n",
       "      <th>3</th>\n",
       "      <td>38</td>\n",
       "      <td>male</td>\n",
       "      <td>imdb_crop/97/nm0000197_rm3710499328_1937-4-22_...</td>\n",
       "    </tr>\n",
       "    <tr>\n",
       "      <th>4</th>\n",
       "      <td>44</td>\n",
       "      <td>female</td>\n",
       "      <td>imdb_crop/80/nm0004980_rm3604781312_1960-11-4_...</td>\n",
       "    </tr>\n",
       "  </tbody>\n",
       "</table>\n",
       "</div>"
      ],
      "text/plain": [
       "   age  gender                                               path\n",
       "0   30  female  imdb_crop/29/nm0005429_rm1549638400_1974-9-19_...\n",
       "1   25    male  imdb_crop/94/nm1475594_rm3318716416_1980-4-26_...\n",
       "2   32    male  imdb_crop/74/nm0004874_rm3353647104_1967-7-18_...\n",
       "3   38    male  imdb_crop/97/nm0000197_rm3710499328_1937-4-22_...\n",
       "4   44  female  imdb_crop/80/nm0004980_rm3604781312_1960-11-4_..."
      ]
     },
     "execution_count": 2,
     "metadata": {},
     "output_type": "execute_result"
    }
   ],
   "source": [
    "meta_data = pd.read_csv(\"meta.csv\")\n",
    "meta_data.head()"
   ]
  },
  {
   "cell_type": "code",
   "execution_count": 3,
   "metadata": {},
   "outputs": [
    {
     "data": {
      "text/html": [
       "<div>\n",
       "<style scoped>\n",
       "    .dataframe tbody tr th:only-of-type {\n",
       "        vertical-align: middle;\n",
       "    }\n",
       "\n",
       "    .dataframe tbody tr th {\n",
       "        vertical-align: top;\n",
       "    }\n",
       "\n",
       "    .dataframe thead th {\n",
       "        text-align: right;\n",
       "    }\n",
       "</style>\n",
       "<table border=\"1\" class=\"dataframe\">\n",
       "  <thead>\n",
       "    <tr style=\"text-align: right;\">\n",
       "      <th></th>\n",
       "      <th>age</th>\n",
       "    </tr>\n",
       "  </thead>\n",
       "  <tbody>\n",
       "    <tr>\n",
       "      <th>count</th>\n",
       "      <td>224840.000000</td>\n",
       "    </tr>\n",
       "    <tr>\n",
       "      <th>mean</th>\n",
       "      <td>36.245468</td>\n",
       "    </tr>\n",
       "    <tr>\n",
       "      <th>std</th>\n",
       "      <td>13.935410</td>\n",
       "    </tr>\n",
       "    <tr>\n",
       "      <th>min</th>\n",
       "      <td>-39.000000</td>\n",
       "    </tr>\n",
       "    <tr>\n",
       "      <th>25%</th>\n",
       "      <td>26.000000</td>\n",
       "    </tr>\n",
       "    <tr>\n",
       "      <th>50%</th>\n",
       "      <td>34.000000</td>\n",
       "    </tr>\n",
       "    <tr>\n",
       "      <th>75%</th>\n",
       "      <td>44.000000</td>\n",
       "    </tr>\n",
       "    <tr>\n",
       "      <th>max</th>\n",
       "      <td>429.000000</td>\n",
       "    </tr>\n",
       "  </tbody>\n",
       "</table>\n",
       "</div>"
      ],
      "text/plain": [
       "                 age\n",
       "count  224840.000000\n",
       "mean       36.245468\n",
       "std        13.935410\n",
       "min       -39.000000\n",
       "25%        26.000000\n",
       "50%        34.000000\n",
       "75%        44.000000\n",
       "max       429.000000"
      ]
     },
     "execution_count": 3,
     "metadata": {},
     "output_type": "execute_result"
    }
   ],
   "source": [
    "meta_data.describe()"
   ]
  },
  {
   "cell_type": "markdown",
   "metadata": {},
   "source": [
    "**2. Plot the age distribution of this population, and determine the size of the bucket “15 to 25 years old\"**\n",
    "\n",
    "On my first pass there were some notable outliers. First, there were values that were below 0, which doesn't make sense - as well as some values that were much older than any human could realistically be. Therefore I decided to remove any values below 5 or above 117 (which according to the [Guinness Book of World Records](https://www.guinnessworldrecords.com/news/2020/10/the-worlds-oldest-people-and-their-secrets-to-a-long-life-632895) is the age of the oldest living human, Kane Tanaka). We could also have set thresholds based on some percentile value, but in this case it doesn't make a difference."
   ]
  },
  {
   "cell_type": "code",
   "execution_count": 4,
   "metadata": {},
   "outputs": [
    {
     "data": {
      "image/png": "[encoded data removed]",
      "text/plain": [
       "<Figure size 360x360 with 1 Axes>"
      ]
     },
     "metadata": {},
     "output_type": "display_data"
    }
   ],
   "source": [
    "meta_data = meta_data[(meta_data[\"age\"]>5) & (meta_data[\"age\"]<117)] \n",
    "plt = sns.displot(meta_data, x=\"age\",binwidth=10,kde=True)"
   ]
  },
  {
   "cell_type": "code",
   "execution_count": 5,
   "metadata": {},
   "outputs": [
    {
     "name": "stdout",
     "output_type": "stream",
     "text": [
      "Photos (Age 15-25):\t38272\n"
     ]
    },
    {
     "data": {
      "text/html": [
       "<div>\n",
       "<style scoped>\n",
       "    .dataframe tbody tr th:only-of-type {\n",
       "        vertical-align: middle;\n",
       "    }\n",
       "\n",
       "    .dataframe tbody tr th {\n",
       "        vertical-align: top;\n",
       "    }\n",
       "\n",
       "    .dataframe thead th {\n",
       "        text-align: right;\n",
       "    }\n",
       "</style>\n",
       "<table border=\"1\" class=\"dataframe\">\n",
       "  <thead>\n",
       "    <tr style=\"text-align: right;\">\n",
       "      <th></th>\n",
       "      <th>6</th>\n",
       "      <th>7</th>\n",
       "      <th>8</th>\n",
       "      <th>9</th>\n",
       "      <th>10</th>\n",
       "      <th>11</th>\n",
       "      <th>12</th>\n",
       "      <th>13</th>\n",
       "      <th>14</th>\n",
       "      <th>15</th>\n",
       "      <th>...</th>\n",
       "      <th>103</th>\n",
       "      <th>105</th>\n",
       "      <th>107</th>\n",
       "      <th>108</th>\n",
       "      <th>109</th>\n",
       "      <th>110</th>\n",
       "      <th>111</th>\n",
       "      <th>112</th>\n",
       "      <th>113</th>\n",
       "      <th>114</th>\n",
       "    </tr>\n",
       "  </thead>\n",
       "  <tbody>\n",
       "    <tr>\n",
       "      <th>Count</th>\n",
       "      <td>127</td>\n",
       "      <td>225</td>\n",
       "      <td>284</td>\n",
       "      <td>347</td>\n",
       "      <td>518</td>\n",
       "      <td>671</td>\n",
       "      <td>768</td>\n",
       "      <td>909</td>\n",
       "      <td>1011</td>\n",
       "      <td>1220</td>\n",
       "      <td>...</td>\n",
       "      <td>3</td>\n",
       "      <td>1</td>\n",
       "      <td>3</td>\n",
       "      <td>1</td>\n",
       "      <td>3</td>\n",
       "      <td>4</td>\n",
       "      <td>1</td>\n",
       "      <td>2</td>\n",
       "      <td>4</td>\n",
       "      <td>1</td>\n",
       "    </tr>\n",
       "  </tbody>\n",
       "</table>\n",
       "<p>1 rows × 107 columns</p>\n",
       "</div>"
      ],
      "text/plain": [
       "       6    7    8    9    10   11   12   13    14    15   ...  103  105  107  \\\n",
       "Count  127  225  284  347  518  671  768  909  1011  1220  ...    3    1    3   \n",
       "\n",
       "       108  109  110  111  112  113  114  \n",
       "Count    1    3    4    1    2    4    1  \n",
       "\n",
       "[1 rows x 107 columns]"
      ]
     },
     "execution_count": 5,
     "metadata": {},
     "output_type": "execute_result"
    }
   ],
   "source": [
    "age_counts = meta_data[\"age\"].value_counts().sort_index()\n",
    "below_25 = age_counts[(age_counts.index>=15) & (age_counts.index<25)]\n",
    "print(f\"Photos (Age 15-25):\\t{below_25.sum()}\")\n",
    "# Taking the transpose of this dataframe is done purely for cosmetic reasons/to conserve space.\n",
    "pd.DataFrame(age_counts).T.rename({\"age\":\"Count\"})"
   ]
  },
  {
   "cell_type": "markdown",
   "metadata": {},
   "source": [
    "**3. What percentage of this population is \"30 year old males\"?**\n"
   ]
  },
  {
   "cell_type": "code",
   "execution_count": 6,
   "metadata": {},
   "outputs": [
    {
     "name": "stdout",
     "output_type": "stream",
     "text": [
      "Number of males aged 30:\t\t4166\n",
      "Population Size:\t\t\t224350\n",
      "% of population that's 30 and male:\t1.857%\n"
     ]
    }
   ],
   "source": [
    "just_males = meta_data[(meta_data[\"age\"]==30) & (meta_data[\"gender\"]==\"male\")]\n",
    "num_males,total_pop = len(just_males),len(meta_data)\n",
    "print(f\"Number of males aged 30:\\t\\t{num_males}\")\n",
    "print(f\"Population Size:\\t\\t\\t{total_pop}\")\n",
    "print(f\"% of population that's 30 and male:\\t{(num_males/total_pop)*100:.3f}%\")"
   ]
  },
  {
   "cell_type": "markdown",
   "metadata": {},
   "source": [
    "**4. Using this dataset, how would you build an algorithm which can predict a person's age using their face?**"
   ]
  },
  {
   "cell_type": "code",
   "execution_count": null,
   "metadata": {},
   "outputs": [],
   "source": []
  },
  {
   "cell_type": "markdown",
   "metadata": {},
   "source": [
    "**5. What are the tradeoffs of the algorithm you selected? What is the loss function?**"
   ]
  },
  {
   "cell_type": "code",
   "execution_count": null,
   "metadata": {},
   "outputs": [],
   "source": []
  },
  {
   "cell_type": "markdown",
   "metadata": {},
   "source": [
    "**6. Would you trust this algorithm in high stake situations (for instance to detect minors at the airport)? Why/Why not?**"
   ]
  },
  {
   "cell_type": "code",
   "execution_count": null,
   "metadata": {},
   "outputs": [],
   "source": []
  },
  {
   "cell_type": "markdown",
   "metadata": {},
   "source": [
    "**7. Write the algorithm flowchart, and provide a legend explaining each step in the flowchart. How would you train this algorithm?How would you test the algorithm?**"
   ]
  },
  {
   "cell_type": "code",
   "execution_count": null,
   "metadata": {},
   "outputs": [],
   "source": []
  },
  {
   "cell_type": "markdown",
   "metadata": {},
   "source": [
    "## Sources\n",
    "\n",
    "Rothe, Timofte & Van Gool. (2015). IMDB-WIKI [Data file]. Retrieved from https://data.vision.ee.ethz.ch/cvl/rrothe/imdb-wiki/"
   ]
  },
  {
   "cell_type": "code",
   "execution_count": null,
   "metadata": {},
   "outputs": [],
   "source": []
  }
 ],
 "metadata": {
  "kernelspec": {
   "display_name": "Python (3.9)",
   "language": "python",
   "name": "global"
  },
  "language_info": {
   "codemirror_mode": {
    "name": "ipython",
    "version": 3
   },
   "file_extension": ".py",
   "mimetype": "text/x-python",
   "name": "python",
   "nbconvert_exporter": "python",
   "pygments_lexer": "ipython3",
   "version": "3.9.0"
  }
 },
 "nbformat": 4,
 "nbformat_minor": 4
}
